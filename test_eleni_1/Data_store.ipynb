{
 "cells": [
  {
   "cell_type": "code",
   "execution_count": 1,
   "metadata": {},
   "outputs": [],
   "source": [
    "%matplotlib inline\n",
    "\n",
    "import os\n",
    "from pprint import pprint\n",
    "\n",
    "# Only needed to embed the images in notebook\n",
    "from IPython.display import Image\n",
    "\n",
    "import numpy as np\n",
    "import matplotlib.pyplot as plt\n",
    "import h5py\n",
    "\n",
    "from srim import TRIM, SR, Ion, Layer, Target\n",
    "from srim.output import Results\n",
    "\n"
   ]
  },
  {
   "cell_type": "markdown",
   "metadata": {},
   "source": [
    "extract data and convert them to .h5"
   ]
  },
  {
   "cell_type": "code",
   "execution_count": 2,
   "metadata": {},
   "outputs": [],
   "source": [
    "srim_executable_directory = './' \n",
    "results = Results(srim_executable_directory)"
   ]
  },
  {
   "cell_type": "markdown",
   "metadata": {},
   "source": [
    "SECOND ATTEMPT\n",
    "\n",
    "MISTAKE DONE REPEATEDLY: groups must have same data types (eg. str or float)"
   ]
  },
  {
   "cell_type": "code",
   "execution_count": 3,
   "metadata": {},
   "outputs": [],
   "source": [
    "f = h5py.File(\"trim_results.h5\",\"w\")\n",
    "ion = f.create_group(\"ion\")\n",
    "ion[\"atomic_number\"] = results.vacancy.ion.atomic_number\n",
    "ion[\"energy\"] = results.vacancy.ion.energy\n",
    "ion[\"mass\"] = results.vacancy.ion.mass\n",
    "#ion[\"name\"] = results.vacancy.ion.name\n",
    "#ion[\"symbol\"] = results.vacancy.ion.symbol\n",
    "f[\"num_ions\"] = results.vacancy.num_ions\n",
    "f[\"depth\"] = results.vacancy.depth\n",
    "vacancy = f.create_group(\"vacancy\")\n",
    "vacancy[\"ions\"] = results.vacancy.knock_ons\n",
    "vacancy[\"recoils\"] = results.vacancy.vacancies\n",
    "\n",
    "ionization = f.create_group(\"ionization\")\n",
    "ionization[\"ions\"] = results.ioniz.ions\n",
    "ionization[\"recoils\"] = results.ioniz.recoils\n",
    "\n",
    "phonon = f.create_group(\"phonon\")\n",
    "phonon[\"ions\"] = results.phonons.ions\n",
    "phonon[\"recoils\"] = results.phonons.recoils\n",
    "\n",
    "range = f.create_group(\"range\")\n",
    "range[\"ions\"] = results.range.ions\n",
    "range[\"recoils\"] = results.range.elements # in case of many elements more than one columns ?????\n",
    "\n",
    "energy_transf = f.create_group(\"en2recoil\")\n",
    "energy_transf[\"ions\"] = results.etorecoils.ions\n",
    "energy_transf[\"absorbed\"] = results.etorecoils.absorbed\n",
    "\n",
    "f.close()"
   ]
  },
  {
   "cell_type": "markdown",
   "metadata": {},
   "source": [
    "Final format is:\n",
    "\n",
    "\n",
    "/trim_results:\n",
    "\n",
    "\n",
    "  |\n",
    "\n",
    "  |--->num_ions\n",
    "\n",
    "  |---> depth\n",
    "\n",
    "  |---> ion\n",
    "\n",
    "        |---> atomic_number\n",
    "        \n",
    "        |---> mass\n",
    "\n",
    "        |---> energy\n",
    "\n",
    "\n",
    "  |---> vacancy\n",
    "\n",
    "        |---> ions\n",
    "\n",
    "        |---> recoils\n",
    "\n",
    "  |---> ionization\n",
    "\n",
    "        |---> ions\n",
    "\n",
    "        |---> recoils\n",
    "\n",
    "  |---> phonon\n",
    "\n",
    "        |---> ions\n",
    "\n",
    "        |---> recoils\n",
    "\n",
    "  |---> range\n",
    "\n",
    "        |---> ions\n",
    "\n",
    "        |---> recoils    \n",
    "\n",
    "  |---> en2recoil\n",
    "\n",
    "        |---> ions\n",
    "\n",
    "        |---> absorbed    \n",
    "          "
   ]
  }
 ],
 "metadata": {
  "interpreter": {
   "hash": "fd39c93be989a514ca7d3fbb1bf932b21fa5d434dd0297a748221630ffc30769"
  },
  "kernelspec": {
   "display_name": "Python 3.9.7 ('base')",
   "language": "python",
   "name": "python3"
  },
  "language_info": {
   "codemirror_mode": {
    "name": "ipython",
    "version": 3
   },
   "file_extension": ".py",
   "mimetype": "text/x-python",
   "name": "python",
   "nbconvert_exporter": "python",
   "pygments_lexer": "ipython3",
   "version": "3.9.7"
  },
  "orig_nbformat": 4
 },
 "nbformat": 4,
 "nbformat_minor": 2
}
