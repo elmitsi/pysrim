{
 "cells": [
  {
   "cell_type": "code",
   "execution_count": 17,
   "metadata": {},
   "outputs": [],
   "source": [
    "%matplotlib inline\n",
    "\n",
    "import re\n",
    "from io import BytesIO\n",
    "#from .core.ion import Ion\n",
    "\n",
    "# Valid double_regex 4, 4.0, 4.0e100\n",
    "double_regex = r'[-+]?\\d+\\.?\\d*(?:[eE][-+]?\\d+)?'\n",
    "symbol_regex = r'[A-Z][a-z]?'\n",
    "int_regex = '[+-]?\\d+'\n",
    "\n",
    "\n",
    "\n",
    "import os\n",
    "from pprint import pprint\n",
    "\n",
    "# Only needed to embed the images in notebook\n",
    "from IPython.display import Image\n",
    "\n",
    "import numpy as np\n",
    "import matplotlib.pyplot as plt\n",
    "import h5py\n",
    "\n",
    "from srim import TRIM, SR, Ion, Layer, Target\n",
    "from srim.output import Results\n",
    "\n"
   ]
  },
  {
   "cell_type": "markdown",
   "metadata": {},
   "source": [
    "extract data and convert them to .h5"
   ]
  },
  {
   "cell_type": "code",
   "execution_count": 18,
   "metadata": {},
   "outputs": [],
   "source": [
    "# Set the directory where data is stored - here as an example \"test_files/1\"\n",
    "srim_executable_directory = './../../test_files/1' \n",
    "results = Results(srim_executable_directory)\n",
    "# Store data in .h5 format in a file \n",
    "# Type the name of the desired output inside the \" \" : \" $NAME \"\n",
    "x = results.Save_h5(\"trim_output.h5\")\n"
   ]
  },
  {
   "cell_type": "markdown",
   "metadata": {},
   "source": [
    "Final format is:\n",
    "\n",
    "\n",
    "/trim_results:\n",
    "\n",
    "\n",
    "  |\n",
    "\n",
    "  |--->num_ions\n",
    "\n",
    "  |---> depth\n",
    "\n",
    "  |---> ion\n",
    "\n",
    "        |---> atomic_number\n",
    "        \n",
    "        |---> mass\n",
    "\n",
    "        |---> energy\n",
    "\n",
    "\n",
    "  |---> vacancy\n",
    "\n",
    "        |---> ions\n",
    "\n",
    "        |---> recoils\n",
    "\n",
    "  |---> ionization\n",
    "\n",
    "        |---> ions\n",
    "\n",
    "        |---> recoils\n",
    "\n",
    "  |---> phonon\n",
    "\n",
    "        |---> ions\n",
    "\n",
    "        |---> recoils\n",
    "\n",
    "  |---> range\n",
    "\n",
    "        |---> ions\n",
    "\n",
    "        |---> recoils    \n",
    "\n",
    "  |---> en2recoil\n",
    "\n",
    "        |---> ions\n",
    "\n",
    "        |---> absorbed    \n",
    "          "
   ]
  }
 ],
 "metadata": {
  "interpreter": {
   "hash": "fd39c93be989a514ca7d3fbb1bf932b21fa5d434dd0297a748221630ffc30769"
  },
  "kernelspec": {
   "display_name": "Python 3.9.7 ('base')",
   "language": "python",
   "name": "python3"
  },
  "language_info": {
   "codemirror_mode": {
    "name": "ipython",
    "version": 3
   },
   "file_extension": ".py",
   "mimetype": "text/x-python",
   "name": "python",
   "nbconvert_exporter": "python",
   "pygments_lexer": "ipython3",
   "version": "3.9.7"
  },
  "orig_nbformat": 4
 },
 "nbformat": 4,
 "nbformat_minor": 2
}
