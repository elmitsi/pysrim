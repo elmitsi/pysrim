{
 "cells": [
  {
   "cell_type": "code",
   "execution_count": 1,
   "metadata": {},
   "outputs": [
    {
     "name": "stdout",
     "output_type": "stream",
     "text": [
      "The Zen of Python, by Tim Peters\n",
      "\n",
      "Beautiful is better than ugly.\n",
      "Explicit is better than implicit.\n",
      "Simple is better than complex.\n",
      "Complex is better than complicated.\n",
      "Flat is better than nested.\n",
      "Sparse is better than dense.\n",
      "Readability counts.\n",
      "Special cases aren't special enough to break the rules.\n",
      "Although practicality beats purity.\n",
      "Errors should never pass silently.\n",
      "Unless explicitly silenced.\n",
      "In the face of ambiguity, refuse the temptation to guess.\n",
      "There should be one-- and preferably only one --obvious way to do it.\n",
      "Although that way may not be obvious at first unless you're Dutch.\n",
      "Now is better than never.\n",
      "Although never is often better than *right* now.\n",
      "If the implementation is hard to explain, it's a bad idea.\n",
      "If the implementation is easy to explain, it may be a good idea.\n",
      "Namespaces are one honking great idea -- let's do more of those!\n"
     ]
    }
   ],
   "source": [
    "%matplotlib inline\n",
    "\n",
    "import re\n",
    "from io import BytesIO\n",
    "#from .core.ion import Ion\n",
    "\n",
    "# Valid double_regex 4, 4.0, 4.0e100\n",
    "double_regex = r'[-+]?\\d+\\.?\\d*(?:[eE][-+]?\\d+)?'\n",
    "symbol_regex = r'[A-Z][a-z]?'\n",
    "int_regex = '[+-]?\\d+'\n",
    "\n",
    "\n",
    "\n",
    "import os\n",
    "from pprint import pprint\n",
    "\n",
    "# Only needed to embed the images in notebook\n",
    "from IPython.display import Image\n",
    "\n",
    "import numpy as np\n",
    "import matplotlib.pyplot as plt\n",
    "import h5py\n",
    "\n",
    "from srim import TRIM, SR, Ion, Layer, Target\n",
    "from srim.output import Results\n",
    "\n"
   ]
  },
  {
   "cell_type": "markdown",
   "metadata": {},
   "source": [
    "extract data and convert them to .h5"
   ]
  },
  {
   "cell_type": "code",
   "execution_count": 2,
   "metadata": {},
   "outputs": [
    {
     "name": "stdout",
     "output_type": "stream",
     "text": [
      "hallo World\n"
     ]
    }
   ],
   "source": [
    "srim_executable_directory = './../../test_files/1' \n",
    "results = Results(srim_executable_directory)\n",
    "# Store data in .h5 format in a file named \"trim_results.h5\" \n",
    "x = results.h5_conv()\n"
   ]
  },
  {
   "cell_type": "code",
   "execution_count": 7,
   "metadata": {},
   "outputs": [
    {
     "name": "stdout",
     "output_type": "stream",
     "text": [
      "hallooooo World\n"
     ]
    }
   ],
   "source": [
    "x = results.h5_conv()"
   ]
  },
  {
   "cell_type": "markdown",
   "metadata": {},
   "source": [
    "Final format is:\n",
    "\n",
    "\n",
    "/trim_results:\n",
    "\n",
    "\n",
    "  |\n",
    "\n",
    "  |--->num_ions\n",
    "\n",
    "  |---> depth\n",
    "\n",
    "  |---> ion\n",
    "\n",
    "        |---> atomic_number\n",
    "        \n",
    "        |---> mass\n",
    "\n",
    "        |---> energy\n",
    "\n",
    "\n",
    "  |---> vacancy\n",
    "\n",
    "        |---> ions\n",
    "\n",
    "        |---> recoils\n",
    "\n",
    "  |---> ionization\n",
    "\n",
    "        |---> ions\n",
    "\n",
    "        |---> recoils\n",
    "\n",
    "  |---> phonon\n",
    "\n",
    "        |---> ions\n",
    "\n",
    "        |---> recoils\n",
    "\n",
    "  |---> range\n",
    "\n",
    "        |---> ions\n",
    "\n",
    "        |---> recoils    \n",
    "\n",
    "  |---> en2recoil\n",
    "\n",
    "        |---> ions\n",
    "\n",
    "        |---> absorbed    \n",
    "          "
   ]
  }
 ],
 "metadata": {
  "interpreter": {
   "hash": "fd39c93be989a514ca7d3fbb1bf932b21fa5d434dd0297a748221630ffc30769"
  },
  "kernelspec": {
   "display_name": "Python 3.9.7 ('base')",
   "language": "python",
   "name": "python3"
  },
  "language_info": {
   "codemirror_mode": {
    "name": "ipython",
    "version": 3
   },
   "file_extension": ".py",
   "mimetype": "text/x-python",
   "name": "python",
   "nbconvert_exporter": "python",
   "pygments_lexer": "ipython3",
   "version": "3.9.7"
  },
  "orig_nbformat": 4
 },
 "nbformat": 4,
 "nbformat_minor": 2
}
