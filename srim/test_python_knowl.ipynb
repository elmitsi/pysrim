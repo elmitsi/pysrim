{
 "cells": [
  {
   "cell_type": "code",
   "execution_count": 14,
   "metadata": {},
   "outputs": [
    {
     "ename": "TypeError",
     "evalue": "try1() takes 0 positional arguments but 1 was given",
     "output_type": "error",
     "traceback": [
      "\u001b[0;31m---------------------------------------------------------------------------\u001b[0m",
      "\u001b[0;31mTypeError\u001b[0m                                 Traceback (most recent call last)",
      "\u001b[0;32m/tmp/ipykernel_8537/1028551903.py\u001b[0m in \u001b[0;36m<module>\u001b[0;34m\u001b[0m\n\u001b[1;32m     10\u001b[0m         \u001b[0mprint\u001b[0m\u001b[0;34m(\u001b[0m\u001b[0;34m\"Hello word\"\u001b[0m\u001b[0;34m)\u001b[0m\u001b[0;34m\u001b[0m\u001b[0;34m\u001b[0m\u001b[0m\n\u001b[1;32m     11\u001b[0m \u001b[0;34m\u001b[0m\u001b[0m\n\u001b[0;32m---> 12\u001b[0;31m \u001b[0mMy_test\u001b[0m\u001b[0;34m.\u001b[0m\u001b[0mtry1\u001b[0m\u001b[0;34m(\u001b[0m\u001b[0;34m'hallo'\u001b[0m\u001b[0;34m)\u001b[0m\u001b[0;34m\u001b[0m\u001b[0;34m\u001b[0m\u001b[0m\n\u001b[0m",
      "\u001b[0;31mTypeError\u001b[0m: try1() takes 0 positional arguments but 1 was given"
     ]
    }
   ],
   "source": [
    "class My_test(object):\n",
    "    def __init__(self,na):\n",
    "        self.name = na\n",
    "        print(self.name)\n",
    "        \n",
    "        \n",
    "    def try1(self):\n",
    "        x = self.name\n",
    "        print(x)\n",
    "        print(\"Hello word\")    \n",
    "\n",
    "My_test.try1('hallo')       "
   ]
  }
 ],
 "metadata": {
  "interpreter": {
   "hash": "fd39c93be989a514ca7d3fbb1bf932b21fa5d434dd0297a748221630ffc30769"
  },
  "kernelspec": {
   "display_name": "Python 3.9.7 ('base')",
   "language": "python",
   "name": "python3"
  },
  "language_info": {
   "codemirror_mode": {
    "name": "ipython",
    "version": 3
   },
   "file_extension": ".py",
   "mimetype": "text/x-python",
   "name": "python",
   "nbconvert_exporter": "python",
   "pygments_lexer": "ipython3",
   "version": "3.9.7"
  },
  "orig_nbformat": 4
 },
 "nbformat": 4,
 "nbformat_minor": 2
}
